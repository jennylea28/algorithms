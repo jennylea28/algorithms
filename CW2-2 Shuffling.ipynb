{
 "cells": [
  {
   "cell_type": "markdown",
   "metadata": {},
   "source": [
    "# Algorithms 202: Coursework 2 Task 2: Random Shuffling"
   ]
  },
  {
   "cell_type": "markdown",
   "metadata": {},
   "source": [
    "Group-ID: XX"
   ]
  },
  {
   "cell_type": "markdown",
   "metadata": {},
   "source": [
    "Group members: ADD NAMES HERE"
   ]
  },
  {
   "cell_type": "markdown",
   "metadata": {},
   "source": [
    "## Objectives"
   ]
  },
  {
   "cell_type": "markdown",
   "metadata": {},
   "source": [
    "The aim of this coursework is to enhance your algorithmic skills by developing algorithms from textual, non-formal descriptions. You are asked to show that you can:\n",
    "\n",
    "- implement different random shuffling algorithms\n",
    "- compare those algorithms using visual representations\n",
    "\n",
    "This notebook *is* the coursework. It contains cells with function definitions that you will need to complete. You will submit this notebook as your coursework."
   ]
  },
  {
   "cell_type": "markdown",
   "metadata": {},
   "source": [
    "## Preliminaries: helper functions"
   ]
  },
  {
   "cell_type": "markdown",
   "metadata": {},
   "source": [
    "Here we define a collection of functions that will be useful for the rest of the coursework. You'll need to run this cell to get started."
   ]
  },
  {
   "cell_type": "code",
   "execution_count": null,
   "metadata": {
    "collapsed": false
   },
   "outputs": [],
   "source": [
    "%matplotlib inline\n",
    "from matplotlib import pyplot as plt\n",
    "import random\n",
    "import numpy as np"
   ]
  },
  {
   "cell_type": "markdown",
   "metadata": {},
   "source": [
    "## Task 2: Random Shuffling"
   ]
  },
  {
   "cell_type": "markdown",
   "metadata": {},
   "source": [
    "In this task you are asked to implement `random_sort_shuffle` and `fisher_yates_shuffle`. Additionally, you will need to implement visualisation techniques that can be used to compare the output of the different random shuffling algorithms.\n",
    "\n",
    "Complete the below function definitions in the provided skeleton code. Do not change the names of the functions or their arguments."
   ]
  },
  {
   "cell_type": "markdown",
   "metadata": {},
   "source": [
    "### 2a. Implement `random_sort_shuffle`"
   ]
  },
  {
   "cell_type": "markdown",
   "metadata": {},
   "source": [
    "The `random_sort_shuffle` function should follow the idea of using a random comparator for sorting the array `a`. See lecture slides for details. You might want to search the web for hints on how to use Python's sort function with a custom comparator. (`functools.cmp_to_key` will be very useful)"
   ]
  },
  {
   "cell_type": "code",
   "execution_count": null,
   "metadata": {
    "collapsed": false
   },
   "outputs": [],
   "source": [
    "from functools import cmp_to_key\n",
    "\n",
    "def random_sort_shuffle(a):\n",
    "    # complete function without changing signature\n",
    "    pass"
   ]
  },
  {
   "cell_type": "markdown",
   "metadata": {},
   "source": [
    "### 2b. Implement `fisher_yates_shuffle`"
   ]
  },
  {
   "cell_type": "markdown",
   "metadata": {},
   "source": [
    "The `fisher_yates_shuffle` function should implement one of the two versions of Fisher-Yates shuffle as outlined in the lecture slides."
   ]
  },
  {
   "cell_type": "code",
   "execution_count": null,
   "metadata": {
    "collapsed": false
   },
   "outputs": [],
   "source": [
    "def fisher_yates_shuffle(a):\n",
    "    # complete function without changing signature\n",
    "    pass"
   ]
  },
  {
   "cell_type": "markdown",
   "metadata": {},
   "source": [
    "### 2c. Implement buggy `fisher_yates_shuffle`"
   ]
  },
  {
   "cell_type": "markdown",
   "metadata": {},
   "source": [
    "Check out the lecture slides for two common bugs that are found in Fisher-Yates shuffle implementations. Implement two buggy versions of `fisher_yates_shuffle` for later analysis."
   ]
  },
  {
   "cell_type": "code",
   "execution_count": null,
   "metadata": {
    "collapsed": false
   },
   "outputs": [],
   "source": [
    "def fisher_yates_shuffle_buggy1(a):\n",
    "    # complete function without changing signature\n",
    "    pass\n",
    "\n",
    "def fisher_yates_shuffle_buggy2(a):\n",
    "    # complete function without changing signature\n",
    "    pass"
   ]
  },
  {
   "cell_type": "markdown",
   "metadata": {},
   "source": [
    "### 2d. Perform empirical analysis"
   ]
  },
  {
   "cell_type": "markdown",
   "metadata": {},
   "source": [
    "The empirical analysis is aiming to detect bias in the shuffle algorithms implemented above. You should build a swap matrix for each shuffle algorithm by executing them multiple times on suitable sequences with a fixed number of elements that allow you to track the random shuffles of elements.\n",
    "\n",
    "You can visualise the swap matrices using the `plt.imshow(matrix)` function (see also the notebook on Random Sampling on the use of `plt.imshow`).\n",
    "\n",
    "Plot the swap matrices and add a few lines of discussion about what you can conclude from the visualisations about possible bias in the different algorithms."
   ]
  },
  {
   "cell_type": "code",
   "execution_count": null,
   "metadata": {
    "collapsed": false
   },
   "outputs": [],
   "source": [
    "# do analysis"
   ]
  }
 ],
 "metadata": {
  "kernelspec": {
   "display_name": "Python 3",
   "language": "python",
   "name": "python3"
  },
  "language_info": {
   "codemirror_mode": {
    "name": "ipython",
    "version": 3
   },
   "file_extension": ".py",
   "mimetype": "text/x-python",
   "name": "python",
   "nbconvert_exporter": "python",
   "pygments_lexer": "ipython3",
   "version": "3.4.4"
  }
 },
 "nbformat": 4,
 "nbformat_minor": 0
}
